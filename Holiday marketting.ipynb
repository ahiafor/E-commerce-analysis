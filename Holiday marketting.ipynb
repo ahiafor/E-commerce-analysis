{
 "cells": [
  {
   "cell_type": "code",
   "execution_count": 1,
   "id": "8fbbce5a",
   "metadata": {},
   "outputs": [],
   "source": [
    "#importing libraries for EDA\n",
    "import numpy as np\n",
    "import pandas as pd\n",
    "from matplotlib import pyplot as plt\n",
    "import seaborn as sns"
   ]
  },
  {
   "cell_type": "markdown",
   "id": "0d5da36e",
   "metadata": {},
   "source": [
    "## Problem Statement"
   ]
  },
  {
   "cell_type": "markdown",
   "id": "2de7cd0e",
   "metadata": {},
   "source": [
    "The company wants to know which holiday period generates the highest revenue so they adjust their marketting budget accrodingly."
   ]
  },
  {
   "cell_type": "code",
   "execution_count": 2,
   "id": "aa460f58",
   "metadata": {},
   "outputs": [
    {
     "data": {
      "text/html": [
       "<div>\n",
       "<style scoped>\n",
       "    .dataframe tbody tr th:only-of-type {\n",
       "        vertical-align: middle;\n",
       "    }\n",
       "\n",
       "    .dataframe tbody tr th {\n",
       "        vertical-align: top;\n",
       "    }\n",
       "\n",
       "    .dataframe thead th {\n",
       "        text-align: right;\n",
       "    }\n",
       "</style>\n",
       "<table border=\"1\" class=\"dataframe\">\n",
       "  <thead>\n",
       "    <tr style=\"text-align: right;\">\n",
       "      <th></th>\n",
       "      <th>Unnamed: 0</th>\n",
       "      <th>InvoiceNo</th>\n",
       "      <th>StockCode</th>\n",
       "      <th>Description</th>\n",
       "      <th>Quantity</th>\n",
       "      <th>UnitPrice</th>\n",
       "      <th>CustomerID</th>\n",
       "      <th>Country</th>\n",
       "      <th>Date</th>\n",
       "      <th>Hour</th>\n",
       "    </tr>\n",
       "  </thead>\n",
       "  <tbody>\n",
       "    <tr>\n",
       "      <th>0</th>\n",
       "      <td>439570</td>\n",
       "      <td>574477</td>\n",
       "      <td>22591</td>\n",
       "      <td>CARDHOLDER GINGHAM CHRISTMAS TREE</td>\n",
       "      <td>1</td>\n",
       "      <td>3.25</td>\n",
       "      <td>15453.0</td>\n",
       "      <td>United Kingdom</td>\n",
       "      <td>2011-11-04</td>\n",
       "      <td>12</td>\n",
       "    </tr>\n",
       "    <tr>\n",
       "      <th>1</th>\n",
       "      <td>387281</td>\n",
       "      <td>570275</td>\n",
       "      <td>23541</td>\n",
       "      <td>WALL ART CLASSIC PUDDINGS</td>\n",
       "      <td>12</td>\n",
       "      <td>7.45</td>\n",
       "      <td>13098.0</td>\n",
       "      <td>United Kingdom</td>\n",
       "      <td>2011-10-10</td>\n",
       "      <td>10</td>\n",
       "    </tr>\n",
       "    <tr>\n",
       "      <th>2</th>\n",
       "      <td>337863</td>\n",
       "      <td>566482</td>\n",
       "      <td>22508</td>\n",
       "      <td>DOORSTOP RETROSPOT HEART</td>\n",
       "      <td>12</td>\n",
       "      <td>3.75</td>\n",
       "      <td>16609.0</td>\n",
       "      <td>United Kingdom</td>\n",
       "      <td>2011-09-13</td>\n",
       "      <td>9</td>\n",
       "    </tr>\n",
       "    <tr>\n",
       "      <th>3</th>\n",
       "      <td>57628</td>\n",
       "      <td>541215</td>\n",
       "      <td>22662</td>\n",
       "      <td>LUNCH BAG DOLLY GIRL DESIGN</td>\n",
       "      <td>10</td>\n",
       "      <td>1.65</td>\n",
       "      <td>14329.0</td>\n",
       "      <td>United Kingdom</td>\n",
       "      <td>2011-01-14</td>\n",
       "      <td>13</td>\n",
       "    </tr>\n",
       "    <tr>\n",
       "      <th>4</th>\n",
       "      <td>330897</td>\n",
       "      <td>565930</td>\n",
       "      <td>POST</td>\n",
       "      <td>POSTAGE</td>\n",
       "      <td>5</td>\n",
       "      <td>18.00</td>\n",
       "      <td>12685.0</td>\n",
       "      <td>France</td>\n",
       "      <td>2011-09-08</td>\n",
       "      <td>10</td>\n",
       "    </tr>\n",
       "  </tbody>\n",
       "</table>\n",
       "</div>"
      ],
      "text/plain": [
       "   Unnamed: 0 InvoiceNo StockCode                        Description  \\\n",
       "0      439570    574477     22591  CARDHOLDER GINGHAM CHRISTMAS TREE   \n",
       "1      387281    570275     23541         WALL ART CLASSIC PUDDINGS    \n",
       "2      337863    566482     22508           DOORSTOP RETROSPOT HEART   \n",
       "3       57628    541215     22662        LUNCH BAG DOLLY GIRL DESIGN   \n",
       "4      330897    565930      POST                            POSTAGE   \n",
       "\n",
       "   Quantity  UnitPrice  CustomerID         Country        Date  Hour  \n",
       "0         1       3.25     15453.0  United Kingdom  2011-11-04    12  \n",
       "1        12       7.45     13098.0  United Kingdom  2011-10-10    10  \n",
       "2        12       3.75     16609.0  United Kingdom  2011-09-13     9  \n",
       "3        10       1.65     14329.0  United Kingdom  2011-01-14    13  \n",
       "4         5      18.00     12685.0          France  2011-09-08    10  "
      ]
     },
     "execution_count": 2,
     "metadata": {},
     "output_type": "execute_result"
    }
   ],
   "source": [
    "#import the sales data to our jupyter notebook for data analysis.\n",
    "sales = pd.read_table('Ecommerce_Data.txt', delimiter = ',')\n",
    "\n",
    "sales.head()"
   ]
  },
  {
   "cell_type": "code",
   "execution_count": 3,
   "id": "f358d737",
   "metadata": {},
   "outputs": [],
   "source": [
    "## dropped the first column in oour dataframe since we wouldnt need it.\n",
    "sales.drop(['Unnamed: 0'], axis=1, inplace= True)"
   ]
  },
  {
   "cell_type": "code",
   "execution_count": 4,
   "id": "2c7daa05",
   "metadata": {
    "scrolled": true
   },
   "outputs": [
    {
     "data": {
      "text/html": [
       "<div>\n",
       "<style scoped>\n",
       "    .dataframe tbody tr th:only-of-type {\n",
       "        vertical-align: middle;\n",
       "    }\n",
       "\n",
       "    .dataframe tbody tr th {\n",
       "        vertical-align: top;\n",
       "    }\n",
       "\n",
       "    .dataframe thead th {\n",
       "        text-align: right;\n",
       "    }\n",
       "</style>\n",
       "<table border=\"1\" class=\"dataframe\">\n",
       "  <thead>\n",
       "    <tr style=\"text-align: right;\">\n",
       "      <th></th>\n",
       "      <th>InvoiceNo</th>\n",
       "      <th>StockCode</th>\n",
       "      <th>Description</th>\n",
       "      <th>Quantity</th>\n",
       "      <th>UnitPrice</th>\n",
       "      <th>CustomerID</th>\n",
       "      <th>Country</th>\n",
       "      <th>Date</th>\n",
       "      <th>Hour</th>\n",
       "    </tr>\n",
       "  </thead>\n",
       "  <tbody>\n",
       "    <tr>\n",
       "      <th>0</th>\n",
       "      <td>574477</td>\n",
       "      <td>22591</td>\n",
       "      <td>CARDHOLDER GINGHAM CHRISTMAS TREE</td>\n",
       "      <td>1</td>\n",
       "      <td>3.25</td>\n",
       "      <td>15453.0</td>\n",
       "      <td>United Kingdom</td>\n",
       "      <td>2011-11-04</td>\n",
       "      <td>12</td>\n",
       "    </tr>\n",
       "    <tr>\n",
       "      <th>1</th>\n",
       "      <td>570275</td>\n",
       "      <td>23541</td>\n",
       "      <td>WALL ART CLASSIC PUDDINGS</td>\n",
       "      <td>12</td>\n",
       "      <td>7.45</td>\n",
       "      <td>13098.0</td>\n",
       "      <td>United Kingdom</td>\n",
       "      <td>2011-10-10</td>\n",
       "      <td>10</td>\n",
       "    </tr>\n",
       "    <tr>\n",
       "      <th>2</th>\n",
       "      <td>566482</td>\n",
       "      <td>22508</td>\n",
       "      <td>DOORSTOP RETROSPOT HEART</td>\n",
       "      <td>12</td>\n",
       "      <td>3.75</td>\n",
       "      <td>16609.0</td>\n",
       "      <td>United Kingdom</td>\n",
       "      <td>2011-09-13</td>\n",
       "      <td>9</td>\n",
       "    </tr>\n",
       "    <tr>\n",
       "      <th>3</th>\n",
       "      <td>541215</td>\n",
       "      <td>22662</td>\n",
       "      <td>LUNCH BAG DOLLY GIRL DESIGN</td>\n",
       "      <td>10</td>\n",
       "      <td>1.65</td>\n",
       "      <td>14329.0</td>\n",
       "      <td>United Kingdom</td>\n",
       "      <td>2011-01-14</td>\n",
       "      <td>13</td>\n",
       "    </tr>\n",
       "    <tr>\n",
       "      <th>4</th>\n",
       "      <td>565930</td>\n",
       "      <td>POST</td>\n",
       "      <td>POSTAGE</td>\n",
       "      <td>5</td>\n",
       "      <td>18.00</td>\n",
       "      <td>12685.0</td>\n",
       "      <td>France</td>\n",
       "      <td>2011-09-08</td>\n",
       "      <td>10</td>\n",
       "    </tr>\n",
       "  </tbody>\n",
       "</table>\n",
       "</div>"
      ],
      "text/plain": [
       "  InvoiceNo StockCode                        Description  Quantity  UnitPrice  \\\n",
       "0    574477     22591  CARDHOLDER GINGHAM CHRISTMAS TREE         1       3.25   \n",
       "1    570275     23541         WALL ART CLASSIC PUDDINGS         12       7.45   \n",
       "2    566482     22508           DOORSTOP RETROSPOT HEART        12       3.75   \n",
       "3    541215     22662        LUNCH BAG DOLLY GIRL DESIGN        10       1.65   \n",
       "4    565930      POST                            POSTAGE         5      18.00   \n",
       "\n",
       "   CustomerID         Country        Date  Hour  \n",
       "0     15453.0  United Kingdom  2011-11-04    12  \n",
       "1     13098.0  United Kingdom  2011-10-10    10  \n",
       "2     16609.0  United Kingdom  2011-09-13     9  \n",
       "3     14329.0  United Kingdom  2011-01-14    13  \n",
       "4     12685.0          France  2011-09-08    10  "
      ]
     },
     "execution_count": 4,
     "metadata": {},
     "output_type": "execute_result"
    }
   ],
   "source": [
    "sales.head()"
   ]
  },
  {
   "cell_type": "code",
   "execution_count": 5,
   "id": "cc14b459",
   "metadata": {},
   "outputs": [
    {
     "data": {
      "text/html": [
       "<div>\n",
       "<style scoped>\n",
       "    .dataframe tbody tr th:only-of-type {\n",
       "        vertical-align: middle;\n",
       "    }\n",
       "\n",
       "    .dataframe tbody tr th {\n",
       "        vertical-align: top;\n",
       "    }\n",
       "\n",
       "    .dataframe thead th {\n",
       "        text-align: right;\n",
       "    }\n",
       "</style>\n",
       "<table border=\"1\" class=\"dataframe\">\n",
       "  <thead>\n",
       "    <tr style=\"text-align: right;\">\n",
       "      <th></th>\n",
       "      <th>InvoiceNo</th>\n",
       "      <th>StockCode</th>\n",
       "      <th>Description</th>\n",
       "      <th>Quantity</th>\n",
       "      <th>UnitPrice</th>\n",
       "      <th>CustomerID</th>\n",
       "      <th>Country</th>\n",
       "      <th>Date</th>\n",
       "      <th>Hour</th>\n",
       "      <th>Sales</th>\n",
       "    </tr>\n",
       "  </thead>\n",
       "  <tbody>\n",
       "    <tr>\n",
       "      <th>0</th>\n",
       "      <td>574477</td>\n",
       "      <td>22591</td>\n",
       "      <td>CARDHOLDER GINGHAM CHRISTMAS TREE</td>\n",
       "      <td>1</td>\n",
       "      <td>3.25</td>\n",
       "      <td>15453.0</td>\n",
       "      <td>United Kingdom</td>\n",
       "      <td>2011-11-04</td>\n",
       "      <td>12</td>\n",
       "      <td>3.25</td>\n",
       "    </tr>\n",
       "    <tr>\n",
       "      <th>1</th>\n",
       "      <td>570275</td>\n",
       "      <td>23541</td>\n",
       "      <td>WALL ART CLASSIC PUDDINGS</td>\n",
       "      <td>12</td>\n",
       "      <td>7.45</td>\n",
       "      <td>13098.0</td>\n",
       "      <td>United Kingdom</td>\n",
       "      <td>2011-10-10</td>\n",
       "      <td>10</td>\n",
       "      <td>89.40</td>\n",
       "    </tr>\n",
       "    <tr>\n",
       "      <th>2</th>\n",
       "      <td>566482</td>\n",
       "      <td>22508</td>\n",
       "      <td>DOORSTOP RETROSPOT HEART</td>\n",
       "      <td>12</td>\n",
       "      <td>3.75</td>\n",
       "      <td>16609.0</td>\n",
       "      <td>United Kingdom</td>\n",
       "      <td>2011-09-13</td>\n",
       "      <td>9</td>\n",
       "      <td>45.00</td>\n",
       "    </tr>\n",
       "    <tr>\n",
       "      <th>3</th>\n",
       "      <td>541215</td>\n",
       "      <td>22662</td>\n",
       "      <td>LUNCH BAG DOLLY GIRL DESIGN</td>\n",
       "      <td>10</td>\n",
       "      <td>1.65</td>\n",
       "      <td>14329.0</td>\n",
       "      <td>United Kingdom</td>\n",
       "      <td>2011-01-14</td>\n",
       "      <td>13</td>\n",
       "      <td>16.50</td>\n",
       "    </tr>\n",
       "    <tr>\n",
       "      <th>4</th>\n",
       "      <td>565930</td>\n",
       "      <td>POST</td>\n",
       "      <td>POSTAGE</td>\n",
       "      <td>5</td>\n",
       "      <td>18.00</td>\n",
       "      <td>12685.0</td>\n",
       "      <td>France</td>\n",
       "      <td>2011-09-08</td>\n",
       "      <td>10</td>\n",
       "      <td>90.00</td>\n",
       "    </tr>\n",
       "  </tbody>\n",
       "</table>\n",
       "</div>"
      ],
      "text/plain": [
       "  InvoiceNo StockCode                        Description  Quantity  UnitPrice  \\\n",
       "0    574477     22591  CARDHOLDER GINGHAM CHRISTMAS TREE         1       3.25   \n",
       "1    570275     23541         WALL ART CLASSIC PUDDINGS         12       7.45   \n",
       "2    566482     22508           DOORSTOP RETROSPOT HEART        12       3.75   \n",
       "3    541215     22662        LUNCH BAG DOLLY GIRL DESIGN        10       1.65   \n",
       "4    565930      POST                            POSTAGE         5      18.00   \n",
       "\n",
       "   CustomerID         Country        Date  Hour  Sales  \n",
       "0     15453.0  United Kingdom  2011-11-04    12   3.25  \n",
       "1     13098.0  United Kingdom  2011-10-10    10  89.40  \n",
       "2     16609.0  United Kingdom  2011-09-13     9  45.00  \n",
       "3     14329.0  United Kingdom  2011-01-14    13  16.50  \n",
       "4     12685.0          France  2011-09-08    10  90.00  "
      ]
     },
     "execution_count": 5,
     "metadata": {},
     "output_type": "execute_result"
    }
   ],
   "source": [
    "## I introduced a sales column into our sales dataframe by multiplying 'quantity' purchased by the Unit price\n",
    "sales['Sales'] = sales['Quantity']* sales['UnitPrice']\n",
    "sales.head()"
   ]
  },
  {
   "cell_type": "markdown",
   "id": "287b45b0",
   "metadata": {},
   "source": [
    "### Data Auditing\n"
   ]
  },
  {
   "cell_type": "markdown",
   "id": "782c7586",
   "metadata": {},
   "source": [
    "I need to know the shape of my dataframe, number of datasets, null values and the type of datasets I'm workig with."
   ]
  },
  {
   "cell_type": "code",
   "execution_count": 6,
   "id": "953a74ad",
   "metadata": {},
   "outputs": [
    {
     "data": {
      "text/plain": [
       "(81601, 10)"
      ]
     },
     "execution_count": 6,
     "metadata": {},
     "output_type": "execute_result"
    }
   ],
   "source": [
    "sales.shape"
   ]
  },
  {
   "cell_type": "code",
   "execution_count": 7,
   "id": "cfc7d804",
   "metadata": {},
   "outputs": [
    {
     "data": {
      "text/plain": [
       "False"
      ]
     },
     "execution_count": 7,
     "metadata": {},
     "output_type": "execute_result"
    }
   ],
   "source": [
    "sales.isnull().any().any()"
   ]
  },
  {
   "cell_type": "code",
   "execution_count": 8,
   "id": "c22e86bf",
   "metadata": {},
   "outputs": [
    {
     "name": "stdout",
     "output_type": "stream",
     "text": [
      "<class 'pandas.core.frame.DataFrame'>\n",
      "RangeIndex: 81601 entries, 0 to 81600\n",
      "Data columns (total 10 columns):\n",
      " #   Column       Non-Null Count  Dtype  \n",
      "---  ------       --------------  -----  \n",
      " 0   InvoiceNo    81601 non-null  object \n",
      " 1   StockCode    81601 non-null  object \n",
      " 2   Description  81601 non-null  object \n",
      " 3   Quantity     81601 non-null  int64  \n",
      " 4   UnitPrice    81601 non-null  float64\n",
      " 5   CustomerID   81601 non-null  float64\n",
      " 6   Country      81601 non-null  object \n",
      " 7   Date         81601 non-null  object \n",
      " 8   Hour         81601 non-null  int64  \n",
      " 9   Sales        81601 non-null  float64\n",
      "dtypes: float64(3), int64(2), object(5)\n",
      "memory usage: 6.2+ MB\n"
     ]
    }
   ],
   "source": [
    "sales.info()"
   ]
  },
  {
   "cell_type": "markdown",
   "id": "fb27f03a",
   "metadata": {},
   "source": [
    "Since our sales dataset didn't have the corresponidng holidays,\n",
    "\n",
    "It is imperative that I import a new dataset with dates and its corresponding holidays"
   ]
  },
  {
   "cell_type": "code",
   "execution_count": 9,
   "id": "c23852be",
   "metadata": {},
   "outputs": [],
   "source": [
    "## reading the holiday data\n",
    "holidays = pd.read_csv('US Holiday Dates.csv')"
   ]
  },
  {
   "cell_type": "code",
   "execution_count": 10,
   "id": "10963652",
   "metadata": {},
   "outputs": [
    {
     "data": {
      "text/html": [
       "<div>\n",
       "<style scoped>\n",
       "    .dataframe tbody tr th:only-of-type {\n",
       "        vertical-align: middle;\n",
       "    }\n",
       "\n",
       "    .dataframe tbody tr th {\n",
       "        vertical-align: top;\n",
       "    }\n",
       "\n",
       "    .dataframe thead th {\n",
       "        text-align: right;\n",
       "    }\n",
       "</style>\n",
       "<table border=\"1\" class=\"dataframe\">\n",
       "  <thead>\n",
       "    <tr style=\"text-align: right;\">\n",
       "      <th></th>\n",
       "      <th>Date</th>\n",
       "      <th>Holiday</th>\n",
       "      <th>WeekDay</th>\n",
       "      <th>Month</th>\n",
       "      <th>Day</th>\n",
       "      <th>Year</th>\n",
       "    </tr>\n",
       "  </thead>\n",
       "  <tbody>\n",
       "    <tr>\n",
       "      <th>0</th>\n",
       "      <td>2004-07-04</td>\n",
       "      <td>4th of July</td>\n",
       "      <td>Sunday</td>\n",
       "      <td>7</td>\n",
       "      <td>4</td>\n",
       "      <td>2004</td>\n",
       "    </tr>\n",
       "    <tr>\n",
       "      <th>1</th>\n",
       "      <td>2005-07-04</td>\n",
       "      <td>4th of July</td>\n",
       "      <td>Monday</td>\n",
       "      <td>7</td>\n",
       "      <td>4</td>\n",
       "      <td>2005</td>\n",
       "    </tr>\n",
       "    <tr>\n",
       "      <th>2</th>\n",
       "      <td>2006-07-04</td>\n",
       "      <td>4th of July</td>\n",
       "      <td>Tuesday</td>\n",
       "      <td>7</td>\n",
       "      <td>4</td>\n",
       "      <td>2006</td>\n",
       "    </tr>\n",
       "    <tr>\n",
       "      <th>3</th>\n",
       "      <td>2007-07-04</td>\n",
       "      <td>4th of July</td>\n",
       "      <td>Wednesday</td>\n",
       "      <td>7</td>\n",
       "      <td>4</td>\n",
       "      <td>2007</td>\n",
       "    </tr>\n",
       "    <tr>\n",
       "      <th>4</th>\n",
       "      <td>2008-07-04</td>\n",
       "      <td>4th of July</td>\n",
       "      <td>Friday</td>\n",
       "      <td>7</td>\n",
       "      <td>4</td>\n",
       "      <td>2008</td>\n",
       "    </tr>\n",
       "  </tbody>\n",
       "</table>\n",
       "</div>"
      ],
      "text/plain": [
       "         Date      Holiday    WeekDay  Month  Day  Year\n",
       "0  2004-07-04  4th of July     Sunday      7    4  2004\n",
       "1  2005-07-04  4th of July     Monday      7    4  2005\n",
       "2  2006-07-04  4th of July    Tuesday      7    4  2006\n",
       "3  2007-07-04  4th of July  Wednesday      7    4  2007\n",
       "4  2008-07-04  4th of July     Friday      7    4  2008"
      ]
     },
     "execution_count": 10,
     "metadata": {},
     "output_type": "execute_result"
    }
   ],
   "source": [
    "holidays.head()"
   ]
  },
  {
   "cell_type": "markdown",
   "id": "565b476c",
   "metadata": {},
   "source": [
    "Merging the sales data to the holiday data to create one dataframe"
   ]
  },
  {
   "cell_type": "code",
   "execution_count": 11,
   "id": "9453e43c",
   "metadata": {},
   "outputs": [
    {
     "data": {
      "text/html": [
       "<div>\n",
       "<style scoped>\n",
       "    .dataframe tbody tr th:only-of-type {\n",
       "        vertical-align: middle;\n",
       "    }\n",
       "\n",
       "    .dataframe tbody tr th {\n",
       "        vertical-align: top;\n",
       "    }\n",
       "\n",
       "    .dataframe thead th {\n",
       "        text-align: right;\n",
       "    }\n",
       "</style>\n",
       "<table border=\"1\" class=\"dataframe\">\n",
       "  <thead>\n",
       "    <tr style=\"text-align: right;\">\n",
       "      <th></th>\n",
       "      <th>InvoiceNo</th>\n",
       "      <th>StockCode</th>\n",
       "      <th>Description</th>\n",
       "      <th>Quantity</th>\n",
       "      <th>UnitPrice</th>\n",
       "      <th>CustomerID</th>\n",
       "      <th>Country</th>\n",
       "      <th>Date</th>\n",
       "      <th>Sales</th>\n",
       "      <th>Holiday</th>\n",
       "    </tr>\n",
       "  </thead>\n",
       "  <tbody>\n",
       "    <tr>\n",
       "      <th>0</th>\n",
       "      <td>574477</td>\n",
       "      <td>22591</td>\n",
       "      <td>CARDHOLDER GINGHAM CHRISTMAS TREE</td>\n",
       "      <td>1</td>\n",
       "      <td>3.25</td>\n",
       "      <td>15453.0</td>\n",
       "      <td>United Kingdom</td>\n",
       "      <td>2011-11-04</td>\n",
       "      <td>3.25</td>\n",
       "      <td>NaN</td>\n",
       "    </tr>\n",
       "    <tr>\n",
       "      <th>1</th>\n",
       "      <td>570275</td>\n",
       "      <td>23541</td>\n",
       "      <td>WALL ART CLASSIC PUDDINGS</td>\n",
       "      <td>12</td>\n",
       "      <td>7.45</td>\n",
       "      <td>13098.0</td>\n",
       "      <td>United Kingdom</td>\n",
       "      <td>2011-10-10</td>\n",
       "      <td>89.40</td>\n",
       "      <td>Columbus Day</td>\n",
       "    </tr>\n",
       "    <tr>\n",
       "      <th>2</th>\n",
       "      <td>566482</td>\n",
       "      <td>22508</td>\n",
       "      <td>DOORSTOP RETROSPOT HEART</td>\n",
       "      <td>12</td>\n",
       "      <td>3.75</td>\n",
       "      <td>16609.0</td>\n",
       "      <td>United Kingdom</td>\n",
       "      <td>2011-09-13</td>\n",
       "      <td>45.00</td>\n",
       "      <td>NaN</td>\n",
       "    </tr>\n",
       "    <tr>\n",
       "      <th>3</th>\n",
       "      <td>541215</td>\n",
       "      <td>22662</td>\n",
       "      <td>LUNCH BAG DOLLY GIRL DESIGN</td>\n",
       "      <td>10</td>\n",
       "      <td>1.65</td>\n",
       "      <td>14329.0</td>\n",
       "      <td>United Kingdom</td>\n",
       "      <td>2011-01-14</td>\n",
       "      <td>16.50</td>\n",
       "      <td>NaN</td>\n",
       "    </tr>\n",
       "    <tr>\n",
       "      <th>4</th>\n",
       "      <td>565930</td>\n",
       "      <td>POST</td>\n",
       "      <td>POSTAGE</td>\n",
       "      <td>5</td>\n",
       "      <td>18.00</td>\n",
       "      <td>12685.0</td>\n",
       "      <td>France</td>\n",
       "      <td>2011-09-08</td>\n",
       "      <td>90.00</td>\n",
       "      <td>NaN</td>\n",
       "    </tr>\n",
       "  </tbody>\n",
       "</table>\n",
       "</div>"
      ],
      "text/plain": [
       "  InvoiceNo StockCode                        Description  Quantity  UnitPrice  \\\n",
       "0    574477     22591  CARDHOLDER GINGHAM CHRISTMAS TREE         1       3.25   \n",
       "1    570275     23541         WALL ART CLASSIC PUDDINGS         12       7.45   \n",
       "2    566482     22508           DOORSTOP RETROSPOT HEART        12       3.75   \n",
       "3    541215     22662        LUNCH BAG DOLLY GIRL DESIGN        10       1.65   \n",
       "4    565930      POST                            POSTAGE         5      18.00   \n",
       "\n",
       "   CustomerID         Country        Date  Sales       Holiday  \n",
       "0     15453.0  United Kingdom  2011-11-04   3.25           NaN  \n",
       "1     13098.0  United Kingdom  2011-10-10  89.40  Columbus Day  \n",
       "2     16609.0  United Kingdom  2011-09-13  45.00           NaN  \n",
       "3     14329.0  United Kingdom  2011-01-14  16.50           NaN  \n",
       "4     12685.0          France  2011-09-08  90.00           NaN  "
      ]
     },
     "execution_count": 11,
     "metadata": {},
     "output_type": "execute_result"
    }
   ],
   "source": [
    "## merging both dataframe with common key: Date\n",
    "newsales= pd.merge(sales,holidays, on= 'Date', how='left')\n",
    "\n",
    "##Dropped some columns in our new dataframe since it wouldn't be needed.\n",
    "newsales.drop(['Hour','WeekDay','Month','Day','Year'], axis=1, inplace= True)\n",
    "newsales.head()"
   ]
  },
  {
   "cell_type": "markdown",
   "id": "92e45dc2",
   "metadata": {},
   "source": [
    "### Data Analysis"
   ]
  },
  {
   "cell_type": "code",
   "execution_count": 12,
   "id": "7b54a573",
   "metadata": {
    "scrolled": true
   },
   "outputs": [
    {
     "data": {
      "text/html": [
       "<div>\n",
       "<style scoped>\n",
       "    .dataframe tbody tr th:only-of-type {\n",
       "        vertical-align: middle;\n",
       "    }\n",
       "\n",
       "    .dataframe tbody tr th {\n",
       "        vertical-align: top;\n",
       "    }\n",
       "\n",
       "    .dataframe thead th {\n",
       "        text-align: right;\n",
       "    }\n",
       "</style>\n",
       "<table border=\"1\" class=\"dataframe\">\n",
       "  <thead>\n",
       "    <tr style=\"text-align: right;\">\n",
       "      <th></th>\n",
       "      <th>Holiday</th>\n",
       "      <th>Sales</th>\n",
       "    </tr>\n",
       "  </thead>\n",
       "  <tbody>\n",
       "    <tr>\n",
       "      <th>0</th>\n",
       "      <td>Thanksgiving Eve</td>\n",
       "      <td>13492.77</td>\n",
       "    </tr>\n",
       "    <tr>\n",
       "      <th>1</th>\n",
       "      <td>Columbus Day</td>\n",
       "      <td>8868.29</td>\n",
       "    </tr>\n",
       "    <tr>\n",
       "      <th>2</th>\n",
       "      <td>Veterans Day</td>\n",
       "      <td>7032.45</td>\n",
       "    </tr>\n",
       "    <tr>\n",
       "      <th>3</th>\n",
       "      <td>4th of July</td>\n",
       "      <td>6776.75</td>\n",
       "    </tr>\n",
       "    <tr>\n",
       "      <th>4</th>\n",
       "      <td>Labor Day</td>\n",
       "      <td>6733.90</td>\n",
       "    </tr>\n",
       "    <tr>\n",
       "      <th>5</th>\n",
       "      <td>Thanksgiving Day</td>\n",
       "      <td>6232.85</td>\n",
       "    </tr>\n",
       "    <tr>\n",
       "      <th>6</th>\n",
       "      <td>Washington's Birthday</td>\n",
       "      <td>5796.19</td>\n",
       "    </tr>\n",
       "    <tr>\n",
       "      <th>7</th>\n",
       "      <td>Valentine’s Day</td>\n",
       "      <td>4896.18</td>\n",
       "    </tr>\n",
       "    <tr>\n",
       "      <th>8</th>\n",
       "      <td>Juneteenth</td>\n",
       "      <td>4431.40</td>\n",
       "    </tr>\n",
       "    <tr>\n",
       "      <th>9</th>\n",
       "      <td>Labor Day Weekend</td>\n",
       "      <td>3636.26</td>\n",
       "    </tr>\n",
       "  </tbody>\n",
       "</table>\n",
       "</div>"
      ],
      "text/plain": [
       "                 Holiday     Sales\n",
       "0       Thanksgiving Eve  13492.77\n",
       "1           Columbus Day   8868.29\n",
       "2           Veterans Day   7032.45\n",
       "3            4th of July   6776.75\n",
       "4              Labor Day   6733.90\n",
       "5       Thanksgiving Day   6232.85\n",
       "6  Washington's Birthday   5796.19\n",
       "7        Valentine’s Day   4896.18\n",
       "8             Juneteenth   4431.40\n",
       "9      Labor Day Weekend   3636.26"
      ]
     },
     "execution_count": 12,
     "metadata": {},
     "output_type": "execute_result"
    }
   ],
   "source": [
    "##aggregate the holiday column in terms of sales\n",
    "aggsales= newsales.groupby('Holiday').sum()['Sales'].reset_index()\n",
    "aggsales= aggsales.sort_values('Sales', ascending = False).reset_index(drop=True)\n",
    "aggsales.head(10)"
   ]
  },
  {
   "cell_type": "markdown",
   "id": "d1e0784c",
   "metadata": {},
   "source": [
    "### Visualising our aggregated data and deriving insights\n",
    "\n",
    "I plotted a horizontal bar chart to visualise each holiday and its respective sales that it generated"
   ]
  },
  {
   "cell_type": "code",
   "execution_count": 13,
   "id": "7638cd38",
   "metadata": {},
   "outputs": [
    {
     "data": {
      "image/png": "[encoded data removed]",
      "text/plain": [
       "<Figure size 720x360 with 1 Axes>"
      ]
     },
     "metadata": {
      "needs_background": "light"
     },
     "output_type": "display_data"
    }
   ],
   "source": [
    "plt.figure(figsize= (10,5))\n",
    "sns.barplot(x=aggsales['Sales'], y=aggsales['Holiday'])\n",
    "plt.xticks(np.arange(0,15000,1000))\n",
    "plt.xlabel('Revenue generated',fontsize = 12, weight ='bold')\n",
    "plt.ylabel('Holidays',fontsize = 12, weight='bold')\n",
    "plt.title('Total Revenue Generated By Each Holiday', fontsize= 17, weight='bold')\n",
    "plt.show()"
   ]
  },
  {
   "cell_type": "markdown",
   "id": "db35bc23",
   "metadata": {},
   "source": [
    "### Insight"
   ]
  },
  {
   "cell_type": "markdown",
   "id": "ef837edd",
   "metadata": {},
   "source": [
    "\n",
    "\n",
    "* Based on the analysis, Thanksgiving Eve generated the higest revenue of any holiday period"
   ]
  },
  {
   "cell_type": "markdown",
   "id": "f6aadce0",
   "metadata": {},
   "source": [
    "### Recommendation"
   ]
  },
  {
   "cell_type": "markdown",
   "id": "79e8748f",
   "metadata": {},
   "source": [
    "* Allocating a relatively larger percentage of the marketting budget during the lead up to the holidays may produce higher revenue "
   ]
  },
  {
   "cell_type": "markdown",
   "id": "8e5af1ce",
   "metadata": {},
   "source": [
    "## Further analysis on 'Thanksgiving Eve' holiday."
   ]
  },
  {
   "cell_type": "markdown",
   "id": "38c5d6d7",
   "metadata": {},
   "source": [
    "We can also further explore the top ten (10) products that were sold the most on Thanksgiving Eve holiday."
   ]
  },
  {
   "cell_type": "code",
   "execution_count": 14,
   "id": "8adc6ab9",
   "metadata": {
    "scrolled": false
   },
   "outputs": [
    {
     "data": {
      "text/html": [
       "<div>\n",
       "<style scoped>\n",
       "    .dataframe tbody tr th:only-of-type {\n",
       "        vertical-align: middle;\n",
       "    }\n",
       "\n",
       "    .dataframe tbody tr th {\n",
       "        vertical-align: top;\n",
       "    }\n",
       "\n",
       "    .dataframe thead th {\n",
       "        text-align: right;\n",
       "    }\n",
       "</style>\n",
       "<table border=\"1\" class=\"dataframe\">\n",
       "  <thead>\n",
       "    <tr style=\"text-align: right;\">\n",
       "      <th></th>\n",
       "      <th>InvoiceNo</th>\n",
       "      <th>StockCode</th>\n",
       "      <th>Description</th>\n",
       "      <th>Quantity</th>\n",
       "      <th>UnitPrice</th>\n",
       "      <th>CustomerID</th>\n",
       "      <th>Country</th>\n",
       "      <th>Date</th>\n",
       "      <th>Sales</th>\n",
       "      <th>Holiday</th>\n",
       "    </tr>\n",
       "  </thead>\n",
       "  <tbody>\n",
       "    <tr>\n",
       "      <th>52</th>\n",
       "      <td>578118</td>\n",
       "      <td>15039</td>\n",
       "      <td>SANDALWOOD FAN</td>\n",
       "      <td>10</td>\n",
       "      <td>0.85</td>\n",
       "      <td>12955.0</td>\n",
       "      <td>United Kingdom</td>\n",
       "      <td>2011-11-23</td>\n",
       "      <td>8.50</td>\n",
       "      <td>Thanksgiving Eve</td>\n",
       "    </tr>\n",
       "    <tr>\n",
       "      <th>157</th>\n",
       "      <td>578305</td>\n",
       "      <td>21111</td>\n",
       "      <td>SWISS ROLL TOWEL, CHOCOLATE  SPOTS</td>\n",
       "      <td>36</td>\n",
       "      <td>2.55</td>\n",
       "      <td>14088.0</td>\n",
       "      <td>United Kingdom</td>\n",
       "      <td>2011-11-23</td>\n",
       "      <td>91.80</td>\n",
       "      <td>Thanksgiving Eve</td>\n",
       "    </tr>\n",
       "    <tr>\n",
       "      <th>195</th>\n",
       "      <td>578260</td>\n",
       "      <td>23313</td>\n",
       "      <td>VINTAGE CHRISTMAS BUNTING</td>\n",
       "      <td>10</td>\n",
       "      <td>4.95</td>\n",
       "      <td>17469.0</td>\n",
       "      <td>United Kingdom</td>\n",
       "      <td>2011-11-23</td>\n",
       "      <td>49.50</td>\n",
       "      <td>Thanksgiving Eve</td>\n",
       "    </tr>\n",
       "    <tr>\n",
       "      <th>250</th>\n",
       "      <td>578265</td>\n",
       "      <td>85048</td>\n",
       "      <td>15CM CHRISTMAS GLASS BALL 20 LIGHTS</td>\n",
       "      <td>12</td>\n",
       "      <td>6.95</td>\n",
       "      <td>13018.0</td>\n",
       "      <td>United Kingdom</td>\n",
       "      <td>2011-11-23</td>\n",
       "      <td>83.40</td>\n",
       "      <td>Thanksgiving Eve</td>\n",
       "    </tr>\n",
       "    <tr>\n",
       "      <th>382</th>\n",
       "      <td>578292</td>\n",
       "      <td>22910</td>\n",
       "      <td>PAPER CHAIN KIT VINTAGE CHRISTMAS</td>\n",
       "      <td>3</td>\n",
       "      <td>2.95</td>\n",
       "      <td>13174.0</td>\n",
       "      <td>United Kingdom</td>\n",
       "      <td>2011-11-23</td>\n",
       "      <td>8.85</td>\n",
       "      <td>Thanksgiving Eve</td>\n",
       "    </tr>\n",
       "  </tbody>\n",
       "</table>\n",
       "</div>"
      ],
      "text/plain": [
       "    InvoiceNo StockCode                          Description  Quantity  \\\n",
       "52     578118     15039                       SANDALWOOD FAN        10   \n",
       "157    578305     21111   SWISS ROLL TOWEL, CHOCOLATE  SPOTS        36   \n",
       "195    578260     23313            VINTAGE CHRISTMAS BUNTING        10   \n",
       "250    578265     85048  15CM CHRISTMAS GLASS BALL 20 LIGHTS        12   \n",
       "382    578292     22910    PAPER CHAIN KIT VINTAGE CHRISTMAS         3   \n",
       "\n",
       "     UnitPrice  CustomerID         Country        Date  Sales  \\\n",
       "52        0.85     12955.0  United Kingdom  2011-11-23   8.50   \n",
       "157       2.55     14088.0  United Kingdom  2011-11-23  91.80   \n",
       "195       4.95     17469.0  United Kingdom  2011-11-23  49.50   \n",
       "250       6.95     13018.0  United Kingdom  2011-11-23  83.40   \n",
       "382       2.95     13174.0  United Kingdom  2011-11-23   8.85   \n",
       "\n",
       "              Holiday  \n",
       "52   Thanksgiving Eve  \n",
       "157  Thanksgiving Eve  \n",
       "195  Thanksgiving Eve  \n",
       "250  Thanksgiving Eve  \n",
       "382  Thanksgiving Eve  "
      ]
     },
     "execution_count": 14,
     "metadata": {},
     "output_type": "execute_result"
    }
   ],
   "source": [
    "thanksgivingeve = newsales.loc[newsales['Holiday']== 'Thanksgiving Eve']\n",
    "thanksgivingeve.head()"
   ]
  },
  {
   "cell_type": "code",
   "execution_count": 15,
   "id": "da837df0",
   "metadata": {},
   "outputs": [
    {
     "data": {
      "text/html": [
       "<div>\n",
       "<style scoped>\n",
       "    .dataframe tbody tr th:only-of-type {\n",
       "        vertical-align: middle;\n",
       "    }\n",
       "\n",
       "    .dataframe tbody tr th {\n",
       "        vertical-align: top;\n",
       "    }\n",
       "\n",
       "    .dataframe thead th {\n",
       "        text-align: right;\n",
       "    }\n",
       "</style>\n",
       "<table border=\"1\" class=\"dataframe\">\n",
       "  <thead>\n",
       "    <tr style=\"text-align: right;\">\n",
       "      <th></th>\n",
       "      <th>Description</th>\n",
       "      <th>Sales</th>\n",
       "    </tr>\n",
       "  </thead>\n",
       "  <tbody>\n",
       "    <tr>\n",
       "      <th>0</th>\n",
       "      <td>WHITE HANGING HEART T-LIGHT HOLDER</td>\n",
       "      <td>434.44</td>\n",
       "    </tr>\n",
       "    <tr>\n",
       "      <th>1</th>\n",
       "      <td>HEART FILIGREE DOVE LARGE</td>\n",
       "      <td>313.20</td>\n",
       "    </tr>\n",
       "    <tr>\n",
       "      <th>2</th>\n",
       "      <td>LUNCH BAG SPACEBOY DESIGN</td>\n",
       "      <td>294.95</td>\n",
       "    </tr>\n",
       "    <tr>\n",
       "      <th>3</th>\n",
       "      <td>CHILDRENS CUTLERY POLKADOT PINK</td>\n",
       "      <td>274.15</td>\n",
       "    </tr>\n",
       "    <tr>\n",
       "      <th>4</th>\n",
       "      <td>ICE CREAM PEN LIP GLOSS</td>\n",
       "      <td>249.60</td>\n",
       "    </tr>\n",
       "    <tr>\n",
       "      <th>5</th>\n",
       "      <td>WALL ART STOP FOR TEA</td>\n",
       "      <td>240.75</td>\n",
       "    </tr>\n",
       "    <tr>\n",
       "      <th>6</th>\n",
       "      <td>VICTORIAN SEWING BOX LARGE</td>\n",
       "      <td>229.95</td>\n",
       "    </tr>\n",
       "    <tr>\n",
       "      <th>7</th>\n",
       "      <td>SET/3 VANILLA SCENTED CANDLE IN BOX</td>\n",
       "      <td>228.60</td>\n",
       "    </tr>\n",
       "    <tr>\n",
       "      <th>8</th>\n",
       "      <td>DOORMAT FANCY FONT HOME SWEET HOME</td>\n",
       "      <td>206.49</td>\n",
       "    </tr>\n",
       "    <tr>\n",
       "      <th>9</th>\n",
       "      <td>SET 7 BABUSHKA NESTING BOXES</td>\n",
       "      <td>200.60</td>\n",
       "    </tr>\n",
       "  </tbody>\n",
       "</table>\n",
       "</div>"
      ],
      "text/plain": [
       "                           Description   Sales\n",
       "0   WHITE HANGING HEART T-LIGHT HOLDER  434.44\n",
       "1            HEART FILIGREE DOVE LARGE  313.20\n",
       "2           LUNCH BAG SPACEBOY DESIGN   294.95\n",
       "3      CHILDRENS CUTLERY POLKADOT PINK  274.15\n",
       "4             ICE CREAM PEN LIP GLOSS   249.60\n",
       "5               WALL ART STOP FOR TEA   240.75\n",
       "6           VICTORIAN SEWING BOX LARGE  229.95\n",
       "7  SET/3 VANILLA SCENTED CANDLE IN BOX  228.60\n",
       "8   DOORMAT FANCY FONT HOME SWEET HOME  206.49\n",
       "9         SET 7 BABUSHKA NESTING BOXES  200.60"
      ]
     },
     "execution_count": 15,
     "metadata": {},
     "output_type": "execute_result"
    }
   ],
   "source": [
    "aggthankseve= thanksgivingeve.groupby('Description').sum()['Sales'].reset_index()\n",
    "aggthankseve= aggthankseve.sort_values('Sales', ascending= False).head(10).reset_index(drop=True)\n",
    "aggthankseve.head(10)"
   ]
  },
  {
   "cell_type": "code",
   "execution_count": 16,
   "id": "fed0fb59",
   "metadata": {},
   "outputs": [
    {
     "data": {
      "image/png": "[encoded data removed]",
      "text/plain": [
       "<Figure size 720x360 with 1 Axes>"
      ]
     },
     "metadata": {
      "needs_background": "light"
     },
     "output_type": "display_data"
    }
   ],
   "source": [
    "plt.figure(figsize= (10,5))\n",
    "sns.barplot(x=aggthankseve['Sales'], y=aggthankseve['Description'])\n",
    "plt.xticks(np.arange(0,500,50))\n",
    "plt.xlabel('Sales',fontsize = 12, weight ='bold')\n",
    "plt.ylabel('Product',fontsize = 12, weight='bold')\n",
    "plt.title('Top Ten Products Sold the most on Thanksgiving Eve', fontsize= 14, weight='bold')\n",
    "plt.show()"
   ]
  },
  {
   "cell_type": "markdown",
   "id": "bbec7047",
   "metadata": {},
   "source": [
    "## Insights"
   ]
  },
  {
   "cell_type": "markdown",
   "id": "f6b58d7e",
   "metadata": {},
   "source": [
    "* Based on the analysis, \"White Hanging Heart T-light Holder\" product was the most sold on Thanksgiving Eve"
   ]
  },
  {
   "cell_type": "markdown",
   "id": "ab2a9bbc",
   "metadata": {},
   "source": [
    "## Recommendation"
   ]
  },
  {
   "cell_type": "markdown",
   "id": "97cc0af0",
   "metadata": {},
   "source": [
    "* Focusing and allocating a relatively larger portion of the marketting budget on the top ten (10) products may produce higher revenue. "
   ]
  },
  {
   "cell_type": "code",
   "execution_count": null,
   "id": "c8826781",
   "metadata": {},
   "outputs": [],
   "source": []
  }
 ],
 "metadata": {
  "kernelspec": {
   "display_name": "Python 3 (ipykernel)",
   "language": "python",
   "name": "python3"
  },
  "language_info": {
   "codemirror_mode": {
    "name": "ipython",
    "version": 3
   },
   "file_extension": ".py",
   "mimetype": "text/x-python",
   "name": "python",
   "nbconvert_exporter": "python",
   "pygments_lexer": "ipython3",
   "version": "3.10.2"
  }
 },
 "nbformat": 4,
 "nbformat_minor": 5
}
